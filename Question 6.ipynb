{
 "cells": [
  {
   "cell_type": "code",
   "execution_count": 1,
   "id": "40153401",
   "metadata": {},
   "outputs": [],
   "source": [
    "import numpy as np"
   ]
  },
  {
   "cell_type": "code",
   "execution_count": 14,
   "id": "c46e4eb6",
   "metadata": {},
   "outputs": [
    {
     "data": {
      "text/plain": [
       "array([0, 1, 2])"
      ]
     },
     "execution_count": 14,
     "metadata": {},
     "output_type": "execute_result"
    }
   ],
   "source": [
    "matrix1 = np.array([0,1,2]) \n",
    "matrix1"
   ]
  },
  {
   "cell_type": "code",
   "execution_count": 15,
   "id": "4f1470d8",
   "metadata": {},
   "outputs": [
    {
     "data": {
      "text/plain": [
       "array([2, 1, 0])"
      ]
     },
     "execution_count": 15,
     "metadata": {},
     "output_type": "execute_result"
    }
   ],
   "source": [
    "matrix2 = np.array([2,1,0])\n",
    "matrix2"
   ]
  },
  {
   "cell_type": "code",
   "execution_count": 20,
   "id": "0af036ab",
   "metadata": {},
   "outputs": [],
   "source": [
    "matrixcov = np.cov(matrix1,matrix2)"
   ]
  },
  {
   "cell_type": "code",
   "execution_count": 21,
   "id": "748a6a20",
   "metadata": {},
   "outputs": [
    {
     "name": "stdout",
     "output_type": "stream",
     "text": [
      "[[ 1. -1.]\n",
      " [-1.  1.]]\n"
     ]
    }
   ],
   "source": [
    "print(matrixcov)"
   ]
  },
  {
   "cell_type": "code",
   "execution_count": null,
   "id": "0227b16c",
   "metadata": {},
   "outputs": [],
   "source": []
  }
 ],
 "metadata": {
  "kernelspec": {
   "display_name": "Python 3",
   "language": "python",
   "name": "python3"
  },
  "language_info": {
   "codemirror_mode": {
    "name": "ipython",
    "version": 3
   },
   "file_extension": ".py",
   "mimetype": "text/x-python",
   "name": "python",
   "nbconvert_exporter": "python",
   "pygments_lexer": "ipython3",
   "version": "3.8.8"
  }
 },
 "nbformat": 4,
 "nbformat_minor": 5
}
