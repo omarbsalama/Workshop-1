{
 "cells": [
  {
   "cell_type": "code",
   "execution_count": 8,
   "id": "5cdad0c5",
   "metadata": {},
   "outputs": [],
   "source": [
    "def missing_char(word,n):\n",
    "    w = word[:n]+word[n+1:]\n",
    "    print(w)"
   ]
  },
  {
   "cell_type": "code",
   "execution_count": 10,
   "id": "0f0c47be",
   "metadata": {},
   "outputs": [
    {
     "name": "stdout",
     "output_type": "stream",
     "text": [
      "ello\n"
     ]
    }
   ],
   "source": [
    "missing_char(\"Hello\",0)"
   ]
  },
  {
   "cell_type": "code",
   "execution_count": null,
   "id": "29f08701",
   "metadata": {},
   "outputs": [],
   "source": []
  }
 ],
 "metadata": {
  "kernelspec": {
   "display_name": "Python 3",
   "language": "python",
   "name": "python3"
  },
  "language_info": {
   "codemirror_mode": {
    "name": "ipython",
    "version": 3
   },
   "file_extension": ".py",
   "mimetype": "text/x-python",
   "name": "python",
   "nbconvert_exporter": "python",
   "pygments_lexer": "ipython3",
   "version": "3.8.8"
  }
 },
 "nbformat": 4,
 "nbformat_minor": 5
}
