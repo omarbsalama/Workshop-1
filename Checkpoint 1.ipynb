{
 "cells": [
  {
   "cell_type": "markdown",
   "id": "c7a5ab54",
   "metadata": {},
   "source": [
    "# Question 1"
   ]
  },
  {
   "cell_type": "code",
   "execution_count": 1,
   "id": "1ff88454",
   "metadata": {},
   "outputs": [],
   "source": [
    "numbersdiv =[]\n",
    "for x in range(2000,3201):\n",
    "        if x % 7 == 0 and x%5 != 0:\n",
    "            numbersdiv.append(x)"
   ]
  },
  {
   "cell_type": "code",
   "execution_count": 2,
   "id": "d39d3dab",
   "metadata": {},
   "outputs": [
    {
     "name": "stdout",
     "output_type": "stream",
     "text": [
      "[2002, 2009, 2016, 2023, 2037, 2044, 2051, 2058, 2072, 2079, 2086, 2093, 2107, 2114, 2121, 2128, 2142, 2149, 2156, 2163, 2177, 2184, 2191, 2198, 2212, 2219, 2226, 2233, 2247, 2254, 2261, 2268, 2282, 2289, 2296, 2303, 2317, 2324, 2331, 2338, 2352, 2359, 2366, 2373, 2387, 2394, 2401, 2408, 2422, 2429, 2436, 2443, 2457, 2464, 2471, 2478, 2492, 2499, 2506, 2513, 2527, 2534, 2541, 2548, 2562, 2569, 2576, 2583, 2597, 2604, 2611, 2618, 2632, 2639, 2646, 2653, 2667, 2674, 2681, 2688, 2702, 2709, 2716, 2723, 2737, 2744, 2751, 2758, 2772, 2779, 2786, 2793, 2807, 2814, 2821, 2828, 2842, 2849, 2856, 2863, 2877, 2884, 2891, 2898, 2912, 2919, 2926, 2933, 2947, 2954, 2961, 2968, 2982, 2989, 2996, 3003, 3017, 3024, 3031, 3038, 3052, 3059, 3066, 3073, 3087, 3094, 3101, 3108, 3122, 3129, 3136, 3143, 3157, 3164, 3171, 3178, 3192, 3199]\n"
     ]
    }
   ],
   "source": [
    "print(numbersdiv)"
   ]
  },
  {
   "cell_type": "markdown",
   "id": "4bae20c2",
   "metadata": {},
   "source": [
    "# Question 2"
   ]
  },
  {
   "cell_type": "code",
   "execution_count": 3,
   "id": "040378d4",
   "metadata": {},
   "outputs": [
    {
     "name": "stdout",
     "output_type": "stream",
     "text": [
      "8\n"
     ]
    }
   ],
   "source": [
    "x = input()"
   ]
  },
  {
   "cell_type": "code",
   "execution_count": 4,
   "id": "173f2462",
   "metadata": {},
   "outputs": [],
   "source": [
    "input_a = int(x) + 1"
   ]
  },
  {
   "cell_type": "code",
   "execution_count": 5,
   "id": "bcf60392",
   "metadata": {},
   "outputs": [],
   "source": [
    "list1 = 1\n",
    "for w in range(1,input_a):\n",
    "     list1 = list1 * w"
   ]
  },
  {
   "cell_type": "code",
   "execution_count": 6,
   "id": "4fc9c9b5",
   "metadata": {},
   "outputs": [
    {
     "name": "stdout",
     "output_type": "stream",
     "text": [
      "40320\n"
     ]
    }
   ],
   "source": [
    "print(list1)"
   ]
  },
  {
   "cell_type": "markdown",
   "id": "873b22b9",
   "metadata": {},
   "source": [
    "# Question 3"
   ]
  },
  {
   "cell_type": "code",
   "execution_count": 7,
   "id": "06020c9e",
   "metadata": {},
   "outputs": [
    {
     "name": "stdout",
     "output_type": "stream",
     "text": [
      "2\n"
     ]
    }
   ],
   "source": [
    " x = input()"
   ]
  },
  {
   "cell_type": "code",
   "execution_count": 8,
   "id": "d2fa9679",
   "metadata": {},
   "outputs": [],
   "source": [
    "input_a = int(x) + 1"
   ]
  },
  {
   "cell_type": "code",
   "execution_count": 9,
   "id": "e0145b75",
   "metadata": {},
   "outputs": [],
   "source": [
    "mydict={}\n",
    "for w in range(1,input_a):\n",
    "    mydict[w]=w**2"
   ]
  },
  {
   "cell_type": "code",
   "execution_count": 10,
   "id": "189bc160",
   "metadata": {},
   "outputs": [
    {
     "name": "stdout",
     "output_type": "stream",
     "text": [
      "{1: 1, 2: 4}\n"
     ]
    }
   ],
   "source": [
    "print(mydict)"
   ]
  },
  {
   "cell_type": "markdown",
   "id": "c9ede078",
   "metadata": {},
   "source": [
    "# Question 4"
   ]
  },
  {
   "cell_type": "code",
   "execution_count": 11,
   "id": "f1a2cd6c",
   "metadata": {},
   "outputs": [],
   "source": [
    "def missing_char(word,n):\n",
    "    w = word[:n]+word[n+1:]\n",
    "    print(w)"
   ]
  },
  {
   "cell_type": "code",
   "execution_count": 12,
   "id": "202b17ee",
   "metadata": {},
   "outputs": [
    {
     "name": "stdout",
     "output_type": "stream",
     "text": [
      "ello\n"
     ]
    }
   ],
   "source": [
    "missing_char(\"Hello\",0)"
   ]
  },
  {
   "cell_type": "markdown",
   "id": "cdc068ca",
   "metadata": {},
   "source": [
    "# Question 5"
   ]
  },
  {
   "cell_type": "code",
   "execution_count": 13,
   "id": "596355f9",
   "metadata": {},
   "outputs": [],
   "source": [
    "import numpy as np"
   ]
  },
  {
   "cell_type": "code",
   "execution_count": 14,
   "id": "28dddfe8",
   "metadata": {},
   "outputs": [],
   "source": [
    "a = np.array([[1,2],[3,4],[4,5]])"
   ]
  },
  {
   "cell_type": "code",
   "execution_count": 15,
   "id": "5141a387",
   "metadata": {},
   "outputs": [
    {
     "data": {
      "text/plain": [
       "array([[1, 2],\n",
       "       [3, 4],\n",
       "       [4, 5]])"
      ]
     },
     "execution_count": 15,
     "metadata": {},
     "output_type": "execute_result"
    }
   ],
   "source": [
    "a"
   ]
  },
  {
   "cell_type": "code",
   "execution_count": 16,
   "id": "5d3971f8",
   "metadata": {},
   "outputs": [],
   "source": [
    "list1 = a.tolist()"
   ]
  },
  {
   "cell_type": "code",
   "execution_count": 17,
   "id": "54028045",
   "metadata": {},
   "outputs": [
    {
     "data": {
      "text/plain": [
       "[[1, 2], [3, 4], [4, 5]]"
      ]
     },
     "execution_count": 17,
     "metadata": {},
     "output_type": "execute_result"
    }
   ],
   "source": [
    "list1"
   ]
  },
  {
   "cell_type": "markdown",
   "id": "6d88ef73",
   "metadata": {},
   "source": [
    "# Question 6"
   ]
  },
  {
   "cell_type": "code",
   "execution_count": 18,
   "id": "1d0b2314",
   "metadata": {},
   "outputs": [],
   "source": [
    "import numpy as np"
   ]
  },
  {
   "cell_type": "code",
   "execution_count": 19,
   "id": "edec4f24",
   "metadata": {},
   "outputs": [
    {
     "data": {
      "text/plain": [
       "array([0, 1, 2])"
      ]
     },
     "execution_count": 19,
     "metadata": {},
     "output_type": "execute_result"
    }
   ],
   "source": [
    "matrix1 = np.array([0,1,2]) \n",
    "matrix1"
   ]
  },
  {
   "cell_type": "code",
   "execution_count": 20,
   "id": "2f3fab2c",
   "metadata": {},
   "outputs": [
    {
     "data": {
      "text/plain": [
       "array([2, 1, 0])"
      ]
     },
     "execution_count": 20,
     "metadata": {},
     "output_type": "execute_result"
    }
   ],
   "source": [
    "matrix2 = np.array([2,1,0])\n",
    "matrix2"
   ]
  },
  {
   "cell_type": "code",
   "execution_count": 21,
   "id": "6d72a14d",
   "metadata": {},
   "outputs": [],
   "source": [
    "matrixcov = np.cov(matrix1,matrix2)"
   ]
  },
  {
   "cell_type": "code",
   "execution_count": 22,
   "id": "58d4c9d6",
   "metadata": {},
   "outputs": [
    {
     "name": "stdout",
     "output_type": "stream",
     "text": [
      "[[ 1. -1.]\n",
      " [-1.  1.]]\n"
     ]
    }
   ],
   "source": [
    "print(matrixcov)"
   ]
  },
  {
   "cell_type": "markdown",
   "id": "dbbd4ff5",
   "metadata": {},
   "source": [
    "# Question 7"
   ]
  },
  {
   "cell_type": "code",
   "execution_count": 23,
   "id": "197fa054",
   "metadata": {},
   "outputs": [],
   "source": [
    "import math"
   ]
  },
  {
   "cell_type": "code",
   "execution_count": 24,
   "id": "d50cd685",
   "metadata": {},
   "outputs": [
    {
     "name": "stdout",
     "output_type": "stream",
     "text": [
      "Please enter D: 2, 3, 4, 1\n"
     ]
    }
   ],
   "source": [
    "numbers = input(\"Please enter D: \")"
   ]
  },
  {
   "cell_type": "code",
   "execution_count": 25,
   "id": "c6ae534d",
   "metadata": {},
   "outputs": [],
   "source": [
    "numbers = numbers.split(',')"
   ]
  },
  {
   "cell_type": "code",
   "execution_count": 26,
   "id": "04d38000",
   "metadata": {},
   "outputs": [],
   "source": [
    "result_list = []"
   ]
  },
  {
   "cell_type": "code",
   "execution_count": 27,
   "id": "0e3f7657",
   "metadata": {},
   "outputs": [],
   "source": [
    "for D in numbers:\n",
    "    Q = round(math.sqrt(2 * 50 * int(D) / 30))\n",
    "    result_list.append(Q)  "
   ]
  },
  {
   "cell_type": "code",
   "execution_count": 28,
   "id": "2219be7b",
   "metadata": {},
   "outputs": [
    {
     "name": "stdout",
     "output_type": "stream",
     "text": [
      "[3, 3, 4, 2]\n"
     ]
    }
   ],
   "source": [
    "print(result_list)"
   ]
  }
 ],
 "metadata": {
  "kernelspec": {
   "display_name": "Python 3",
   "language": "python",
   "name": "python3"
  },
  "language_info": {
   "codemirror_mode": {
    "name": "ipython",
    "version": 3
   },
   "file_extension": ".py",
   "mimetype": "text/x-python",
   "name": "python",
   "nbconvert_exporter": "python",
   "pygments_lexer": "ipython3",
   "version": "3.8.8"
  }
 },
 "nbformat": 4,
 "nbformat_minor": 5
}
