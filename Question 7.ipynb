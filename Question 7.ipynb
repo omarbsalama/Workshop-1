{
 "cells": [
  {
   "cell_type": "code",
   "execution_count": 16,
   "id": "sPKoUC48kgqo",
   "metadata": {
    "id": "sPKoUC48kgqo"
   },
   "outputs": [],
   "source": [
    "import math"
   ]
  },
  {
   "cell_type": "code",
   "execution_count": 17,
   "id": "wtFU6RjolKvl",
   "metadata": {
    "id": "wtFU6RjolKvl"
   },
   "outputs": [
    {
     "name": "stdout",
     "output_type": "stream",
     "text": [
      "Provide D: 2,1,3\n"
     ]
    }
   ],
   "source": [
    "numbers = input(\"Please enter D: \")"
   ]
  },
  {
   "cell_type": "code",
   "execution_count": 18,
   "id": "755daefc",
   "metadata": {},
   "outputs": [],
   "source": [
    "numbers = numbers.split(',')"
   ]
  },
  {
   "cell_type": "code",
   "execution_count": 19,
   "id": "1f3f6ea4",
   "metadata": {},
   "outputs": [],
   "source": [
    "result_list = []"
   ]
  },
  {
   "cell_type": "code",
   "execution_count": 20,
   "id": "155cc612",
   "metadata": {},
   "outputs": [],
   "source": [
    "for D in numbers:\n",
    "    Q = round(math.sqrt(2 * 50 * int(D) / 30))\n",
    "    result_list.append(Q)    "
   ]
  },
  {
   "cell_type": "code",
   "execution_count": 21,
   "id": "d3efbe5f",
   "metadata": {},
   "outputs": [
    {
     "name": "stdout",
     "output_type": "stream",
     "text": [
      "[3, 2, 3]\n"
     ]
    }
   ],
   "source": [
    "print(result_list)"
   ]
  }
 ],
 "metadata": {
  "colab": {
   "name": "Question 7.ipynb",
   "provenance": []
  },
  "kernelspec": {
   "display_name": "Python 3",
   "language": "python",
   "name": "python3"
  },
  "language_info": {
   "codemirror_mode": {
    "name": "ipython",
    "version": 3
   },
   "file_extension": ".py",
   "mimetype": "text/x-python",
   "name": "python",
   "nbconvert_exporter": "python",
   "pygments_lexer": "ipython3",
   "version": "3.8.8"
  }
 },
 "nbformat": 4,
 "nbformat_minor": 5
}
