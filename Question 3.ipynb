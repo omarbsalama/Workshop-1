{
 "cells": [
  {
   "cell_type": "code",
   "execution_count": 18,
   "id": "c5bca323",
   "metadata": {},
   "outputs": [
    {
     "name": "stdout",
     "output_type": "stream",
     "text": [
      "7\n"
     ]
    }
   ],
   "source": [
    " x = input()"
   ]
  },
  {
   "cell_type": "code",
   "execution_count": 19,
   "id": "b63e51c2",
   "metadata": {},
   "outputs": [],
   "source": [
    "input_a = int(x) + 1"
   ]
  },
  {
   "cell_type": "code",
   "execution_count": 20,
   "id": "57de5017",
   "metadata": {},
   "outputs": [],
   "source": [
    "mydict={}\n",
    "for w in range(1,input_a):\n",
    "    mydict[w]=w**2"
   ]
  },
  {
   "cell_type": "code",
   "execution_count": 21,
   "id": "e7dcbb27",
   "metadata": {},
   "outputs": [
    {
     "name": "stdout",
     "output_type": "stream",
     "text": [
      "{1: 1, 2: 4, 3: 9, 4: 16, 5: 25, 6: 36, 7: 49}\n"
     ]
    }
   ],
   "source": [
    "print(mydict)"
   ]
  }
 ],
 "metadata": {
  "kernelspec": {
   "display_name": "Python 3",
   "language": "python",
   "name": "python3"
  },
  "language_info": {
   "codemirror_mode": {
    "name": "ipython",
    "version": 3
   },
   "file_extension": ".py",
   "mimetype": "text/x-python",
   "name": "python",
   "nbconvert_exporter": "python",
   "pygments_lexer": "ipython3",
   "version": "3.8.8"
  }
 },
 "nbformat": 4,
 "nbformat_minor": 5
}
